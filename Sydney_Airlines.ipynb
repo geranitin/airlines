{
  "nbformat": 4,
  "nbformat_minor": 0,
  "metadata": {
    "colab": {
      "provenance": [],
      "authorship_tag": "ABX9TyMYdgom2CfvviJK/wIq2GX+",
      "include_colab_link": true
    },
    "kernelspec": {
      "name": "python3",
      "display_name": "Python 3"
    },
    "language_info": {
      "name": "python"
    }
  },
  "cells": [
    {
      "cell_type": "markdown",
      "metadata": {
        "id": "view-in-github",
        "colab_type": "text"
      },
      "source": [
        "<a href=\"https://colab.research.google.com/github/geranitin/airlines/blob/main/Sydney_Airlines.ipynb\" target=\"_parent\"><img src=\"https://colab.research.google.com/assets/colab-badge.svg\" alt=\"Open In Colab\"/></a>"
      ]
    },
    {
      "cell_type": "code",
      "execution_count": 1,
      "metadata": {
        "colab": {
          "base_uri": "https://localhost:8080/"
        },
        "id": "lWLLS99yO8E-",
        "outputId": "6cd0a1a0-5e38-49a9-b882-11744ad96170"
      },
      "outputs": [
        {
          "output_type": "stream",
          "name": "stdout",
          "text": [
            "Setup Complete\n"
          ]
        }
      ],
      "source": [
        "#load necessary modules\n",
        "\n",
        "import numpy as np\n",
        "import pandas as pd\n",
        "\n",
        "pd.plotting.register_matplotlib_converters()\n",
        "import matplotlib.pyplot as plt\n",
        "from imblearn.over_sampling import SMOTE\n",
        "%matplotlib inline\n",
        "import seaborn as sns\n",
        "from IPython.core.interactiveshell import InteractiveShell\n",
        "InteractiveShell.ast_node_interactivity = \"all\"\n",
        "print(\"Setup Complete\")"
      ]
    },
    {
      "cell_type": "code",
      "source": [
        "#load data using github repo\n",
        "url = (r'https://raw.githubusercontent.com/geranitin/airlines/main/sydney_airlines.csv')\n",
        "air= pd.read_csv(url)\n"
      ],
      "metadata": {
        "id": "RnlPoDTxQ4aC"
      },
      "execution_count": 3,
      "outputs": []
    },
    {
      "cell_type": "code",
      "source": [
        "air.head()"
      ],
      "metadata": {
        "colab": {
          "base_uri": "https://localhost:8080/",
          "height": 206
        },
        "id": "Ma8esbb6RpsD",
        "outputId": "2bff9b19-f24c-4ff8-b505-947c2d8109e6"
      },
      "execution_count": 4,
      "outputs": [
        {
          "output_type": "execute_result",
          "data": {
            "text/plain": [
              "  Departing_Port Arriving_Port Airline  Year Month  Cancellations  \\\n",
              "0       Adelaide      Brisbane    Anta  2020   Jan              3   \n",
              "1       Adelaide      Brisbane    Anta  2020   Feb              6   \n",
              "2       Adelaide      Brisbane    Anta  2020   Mar              9   \n",
              "3       Adelaide      Brisbane    Anta  2020   Apr              3   \n",
              "4       Adelaide      Brisbane    Anta  2020   May              4   \n",
              "\n",
              "   Departures_On_Time  Departures_Delayed  Bad Weather   Sick leave  \n",
              "0                  98                   9             3          11  \n",
              "1                  90                  10             3          12  \n",
              "2                  88                   8             4          12  \n",
              "3                   5                   3             2          11  \n",
              "4                   8                   3             3          11  "
            ],
            "text/html": [
              "\n",
              "  <div id=\"df-6279b1ba-d0a2-4d7a-9861-587fe27221a3\">\n",
              "    <div class=\"colab-df-container\">\n",
              "      <div>\n",
              "<style scoped>\n",
              "    .dataframe tbody tr th:only-of-type {\n",
              "        vertical-align: middle;\n",
              "    }\n",
              "\n",
              "    .dataframe tbody tr th {\n",
              "        vertical-align: top;\n",
              "    }\n",
              "\n",
              "    .dataframe thead th {\n",
              "        text-align: right;\n",
              "    }\n",
              "</style>\n",
              "<table border=\"1\" class=\"dataframe\">\n",
              "  <thead>\n",
              "    <tr style=\"text-align: right;\">\n",
              "      <th></th>\n",
              "      <th>Departing_Port</th>\n",
              "      <th>Arriving_Port</th>\n",
              "      <th>Airline</th>\n",
              "      <th>Year</th>\n",
              "      <th>Month</th>\n",
              "      <th>Cancellations</th>\n",
              "      <th>Departures_On_Time</th>\n",
              "      <th>Departures_Delayed</th>\n",
              "      <th>Bad Weather</th>\n",
              "      <th>Sick leave</th>\n",
              "    </tr>\n",
              "  </thead>\n",
              "  <tbody>\n",
              "    <tr>\n",
              "      <th>0</th>\n",
              "      <td>Adelaide</td>\n",
              "      <td>Brisbane</td>\n",
              "      <td>Anta</td>\n",
              "      <td>2020</td>\n",
              "      <td>Jan</td>\n",
              "      <td>3</td>\n",
              "      <td>98</td>\n",
              "      <td>9</td>\n",
              "      <td>3</td>\n",
              "      <td>11</td>\n",
              "    </tr>\n",
              "    <tr>\n",
              "      <th>1</th>\n",
              "      <td>Adelaide</td>\n",
              "      <td>Brisbane</td>\n",
              "      <td>Anta</td>\n",
              "      <td>2020</td>\n",
              "      <td>Feb</td>\n",
              "      <td>6</td>\n",
              "      <td>90</td>\n",
              "      <td>10</td>\n",
              "      <td>3</td>\n",
              "      <td>12</td>\n",
              "    </tr>\n",
              "    <tr>\n",
              "      <th>2</th>\n",
              "      <td>Adelaide</td>\n",
              "      <td>Brisbane</td>\n",
              "      <td>Anta</td>\n",
              "      <td>2020</td>\n",
              "      <td>Mar</td>\n",
              "      <td>9</td>\n",
              "      <td>88</td>\n",
              "      <td>8</td>\n",
              "      <td>4</td>\n",
              "      <td>12</td>\n",
              "    </tr>\n",
              "    <tr>\n",
              "      <th>3</th>\n",
              "      <td>Adelaide</td>\n",
              "      <td>Brisbane</td>\n",
              "      <td>Anta</td>\n",
              "      <td>2020</td>\n",
              "      <td>Apr</td>\n",
              "      <td>3</td>\n",
              "      <td>5</td>\n",
              "      <td>3</td>\n",
              "      <td>2</td>\n",
              "      <td>11</td>\n",
              "    </tr>\n",
              "    <tr>\n",
              "      <th>4</th>\n",
              "      <td>Adelaide</td>\n",
              "      <td>Brisbane</td>\n",
              "      <td>Anta</td>\n",
              "      <td>2020</td>\n",
              "      <td>May</td>\n",
              "      <td>4</td>\n",
              "      <td>8</td>\n",
              "      <td>3</td>\n",
              "      <td>3</td>\n",
              "      <td>11</td>\n",
              "    </tr>\n",
              "  </tbody>\n",
              "</table>\n",
              "</div>\n",
              "      <button class=\"colab-df-convert\" onclick=\"convertToInteractive('df-6279b1ba-d0a2-4d7a-9861-587fe27221a3')\"\n",
              "              title=\"Convert this dataframe to an interactive table.\"\n",
              "              style=\"display:none;\">\n",
              "        \n",
              "  <svg xmlns=\"http://www.w3.org/2000/svg\" height=\"24px\"viewBox=\"0 0 24 24\"\n",
              "       width=\"24px\">\n",
              "    <path d=\"M0 0h24v24H0V0z\" fill=\"none\"/>\n",
              "    <path d=\"M18.56 5.44l.94 2.06.94-2.06 2.06-.94-2.06-.94-.94-2.06-.94 2.06-2.06.94zm-11 1L8.5 8.5l.94-2.06 2.06-.94-2.06-.94L8.5 2.5l-.94 2.06-2.06.94zm10 10l.94 2.06.94-2.06 2.06-.94-2.06-.94-.94-2.06-.94 2.06-2.06.94z\"/><path d=\"M17.41 7.96l-1.37-1.37c-.4-.4-.92-.59-1.43-.59-.52 0-1.04.2-1.43.59L10.3 9.45l-7.72 7.72c-.78.78-.78 2.05 0 2.83L4 21.41c.39.39.9.59 1.41.59.51 0 1.02-.2 1.41-.59l7.78-7.78 2.81-2.81c.8-.78.8-2.07 0-2.86zM5.41 20L4 18.59l7.72-7.72 1.47 1.35L5.41 20z\"/>\n",
              "  </svg>\n",
              "      </button>\n",
              "      \n",
              "  <style>\n",
              "    .colab-df-container {\n",
              "      display:flex;\n",
              "      flex-wrap:wrap;\n",
              "      gap: 12px;\n",
              "    }\n",
              "\n",
              "    .colab-df-convert {\n",
              "      background-color: #E8F0FE;\n",
              "      border: none;\n",
              "      border-radius: 50%;\n",
              "      cursor: pointer;\n",
              "      display: none;\n",
              "      fill: #1967D2;\n",
              "      height: 32px;\n",
              "      padding: 0 0 0 0;\n",
              "      width: 32px;\n",
              "    }\n",
              "\n",
              "    .colab-df-convert:hover {\n",
              "      background-color: #E2EBFA;\n",
              "      box-shadow: 0px 1px 2px rgba(60, 64, 67, 0.3), 0px 1px 3px 1px rgba(60, 64, 67, 0.15);\n",
              "      fill: #174EA6;\n",
              "    }\n",
              "\n",
              "    [theme=dark] .colab-df-convert {\n",
              "      background-color: #3B4455;\n",
              "      fill: #D2E3FC;\n",
              "    }\n",
              "\n",
              "    [theme=dark] .colab-df-convert:hover {\n",
              "      background-color: #434B5C;\n",
              "      box-shadow: 0px 1px 3px 1px rgba(0, 0, 0, 0.15);\n",
              "      filter: drop-shadow(0px 1px 2px rgba(0, 0, 0, 0.3));\n",
              "      fill: #FFFFFF;\n",
              "    }\n",
              "  </style>\n",
              "\n",
              "      <script>\n",
              "        const buttonEl =\n",
              "          document.querySelector('#df-6279b1ba-d0a2-4d7a-9861-587fe27221a3 button.colab-df-convert');\n",
              "        buttonEl.style.display =\n",
              "          google.colab.kernel.accessAllowed ? 'block' : 'none';\n",
              "\n",
              "        async function convertToInteractive(key) {\n",
              "          const element = document.querySelector('#df-6279b1ba-d0a2-4d7a-9861-587fe27221a3');\n",
              "          const dataTable =\n",
              "            await google.colab.kernel.invokeFunction('convertToInteractive',\n",
              "                                                     [key], {});\n",
              "          if (!dataTable) return;\n",
              "\n",
              "          const docLinkHtml = 'Like what you see? Visit the ' +\n",
              "            '<a target=\"_blank\" href=https://colab.research.google.com/notebooks/data_table.ipynb>data table notebook</a>'\n",
              "            + ' to learn more about interactive tables.';\n",
              "          element.innerHTML = '';\n",
              "          dataTable['output_type'] = 'display_data';\n",
              "          await google.colab.output.renderOutput(dataTable, element);\n",
              "          const docLink = document.createElement('div');\n",
              "          docLink.innerHTML = docLinkHtml;\n",
              "          element.appendChild(docLink);\n",
              "        }\n",
              "      </script>\n",
              "    </div>\n",
              "  </div>\n",
              "  "
            ]
          },
          "metadata": {},
          "execution_count": 4
        }
      ]
    },
    {
      "cell_type": "code",
      "source": [
        "air.info()"
      ],
      "metadata": {
        "colab": {
          "base_uri": "https://localhost:8080/"
        },
        "id": "ZnAuB5vASriz",
        "outputId": "b7075e32-0ff6-4faf-8582-29e4a4a862e4"
      },
      "execution_count": 5,
      "outputs": [
        {
          "output_type": "stream",
          "name": "stdout",
          "text": [
            "<class 'pandas.core.frame.DataFrame'>\n",
            "RangeIndex: 480 entries, 0 to 479\n",
            "Data columns (total 10 columns):\n",
            " #   Column              Non-Null Count  Dtype \n",
            "---  ------              --------------  ----- \n",
            " 0   Departing_Port      480 non-null    object\n",
            " 1   Arriving_Port       480 non-null    object\n",
            " 2   Airline             480 non-null    object\n",
            " 3   Year                480 non-null    int64 \n",
            " 4   Month               480 non-null    object\n",
            " 5   Cancellations       480 non-null    int64 \n",
            " 6   Departures_On_Time  480 non-null    int64 \n",
            " 7   Departures_Delayed  480 non-null    int64 \n",
            " 8   Bad Weather         480 non-null    int64 \n",
            " 9   Sick leave          480 non-null    int64 \n",
            "dtypes: int64(6), object(4)\n",
            "memory usage: 37.6+ KB\n"
          ]
        }
      ]
    },
    {
      "cell_type": "code",
      "source": [
        "air.describe()"
      ],
      "metadata": {
        "colab": {
          "base_uri": "https://localhost:8080/",
          "height": 300
        },
        "id": "APZwk_uJSvok",
        "outputId": "48ba8058-2901-4c1f-80c1-34147320df08"
      },
      "execution_count": 6,
      "outputs": [
        {
          "output_type": "execute_result",
          "data": {
            "text/plain": [
              "         Year  Cancellations  Departures_On_Time  Departures_Delayed  \\\n",
              "count   480.0     480.000000          480.000000          480.000000   \n",
              "mean   2020.0      15.722917           75.879167           17.677083   \n",
              "std       0.0      30.095538          115.066351           30.397263   \n",
              "min    2020.0       1.000000            0.000000            0.000000   \n",
              "25%    2020.0       3.750000           15.000000            3.000000   \n",
              "50%    2020.0       7.000000           32.000000            6.000000   \n",
              "75%    2020.0      16.000000           82.500000           16.000000   \n",
              "max    2020.0     246.000000          777.000000          238.000000   \n",
              "\n",
              "       Bad Weather   Sick leave  \n",
              "count    480.000000   480.00000  \n",
              "mean       3.545833    16.42500  \n",
              "std        2.564814    11.39528  \n",
              "min        0.000000    10.00000  \n",
              "25%        2.000000    11.00000  \n",
              "50%        3.000000    13.00000  \n",
              "75%        5.000000    16.00000  \n",
              "max       16.000000    98.00000  "
            ],
            "text/html": [
              "\n",
              "  <div id=\"df-3b6736d5-21a6-453c-87ff-6cebe4a0dca7\">\n",
              "    <div class=\"colab-df-container\">\n",
              "      <div>\n",
              "<style scoped>\n",
              "    .dataframe tbody tr th:only-of-type {\n",
              "        vertical-align: middle;\n",
              "    }\n",
              "\n",
              "    .dataframe tbody tr th {\n",
              "        vertical-align: top;\n",
              "    }\n",
              "\n",
              "    .dataframe thead th {\n",
              "        text-align: right;\n",
              "    }\n",
              "</style>\n",
              "<table border=\"1\" class=\"dataframe\">\n",
              "  <thead>\n",
              "    <tr style=\"text-align: right;\">\n",
              "      <th></th>\n",
              "      <th>Year</th>\n",
              "      <th>Cancellations</th>\n",
              "      <th>Departures_On_Time</th>\n",
              "      <th>Departures_Delayed</th>\n",
              "      <th>Bad Weather</th>\n",
              "      <th>Sick leave</th>\n",
              "    </tr>\n",
              "  </thead>\n",
              "  <tbody>\n",
              "    <tr>\n",
              "      <th>count</th>\n",
              "      <td>480.0</td>\n",
              "      <td>480.000000</td>\n",
              "      <td>480.000000</td>\n",
              "      <td>480.000000</td>\n",
              "      <td>480.000000</td>\n",
              "      <td>480.00000</td>\n",
              "    </tr>\n",
              "    <tr>\n",
              "      <th>mean</th>\n",
              "      <td>2020.0</td>\n",
              "      <td>15.722917</td>\n",
              "      <td>75.879167</td>\n",
              "      <td>17.677083</td>\n",
              "      <td>3.545833</td>\n",
              "      <td>16.42500</td>\n",
              "    </tr>\n",
              "    <tr>\n",
              "      <th>std</th>\n",
              "      <td>0.0</td>\n",
              "      <td>30.095538</td>\n",
              "      <td>115.066351</td>\n",
              "      <td>30.397263</td>\n",
              "      <td>2.564814</td>\n",
              "      <td>11.39528</td>\n",
              "    </tr>\n",
              "    <tr>\n",
              "      <th>min</th>\n",
              "      <td>2020.0</td>\n",
              "      <td>1.000000</td>\n",
              "      <td>0.000000</td>\n",
              "      <td>0.000000</td>\n",
              "      <td>0.000000</td>\n",
              "      <td>10.00000</td>\n",
              "    </tr>\n",
              "    <tr>\n",
              "      <th>25%</th>\n",
              "      <td>2020.0</td>\n",
              "      <td>3.750000</td>\n",
              "      <td>15.000000</td>\n",
              "      <td>3.000000</td>\n",
              "      <td>2.000000</td>\n",
              "      <td>11.00000</td>\n",
              "    </tr>\n",
              "    <tr>\n",
              "      <th>50%</th>\n",
              "      <td>2020.0</td>\n",
              "      <td>7.000000</td>\n",
              "      <td>32.000000</td>\n",
              "      <td>6.000000</td>\n",
              "      <td>3.000000</td>\n",
              "      <td>13.00000</td>\n",
              "    </tr>\n",
              "    <tr>\n",
              "      <th>75%</th>\n",
              "      <td>2020.0</td>\n",
              "      <td>16.000000</td>\n",
              "      <td>82.500000</td>\n",
              "      <td>16.000000</td>\n",
              "      <td>5.000000</td>\n",
              "      <td>16.00000</td>\n",
              "    </tr>\n",
              "    <tr>\n",
              "      <th>max</th>\n",
              "      <td>2020.0</td>\n",
              "      <td>246.000000</td>\n",
              "      <td>777.000000</td>\n",
              "      <td>238.000000</td>\n",
              "      <td>16.000000</td>\n",
              "      <td>98.00000</td>\n",
              "    </tr>\n",
              "  </tbody>\n",
              "</table>\n",
              "</div>\n",
              "      <button class=\"colab-df-convert\" onclick=\"convertToInteractive('df-3b6736d5-21a6-453c-87ff-6cebe4a0dca7')\"\n",
              "              title=\"Convert this dataframe to an interactive table.\"\n",
              "              style=\"display:none;\">\n",
              "        \n",
              "  <svg xmlns=\"http://www.w3.org/2000/svg\" height=\"24px\"viewBox=\"0 0 24 24\"\n",
              "       width=\"24px\">\n",
              "    <path d=\"M0 0h24v24H0V0z\" fill=\"none\"/>\n",
              "    <path d=\"M18.56 5.44l.94 2.06.94-2.06 2.06-.94-2.06-.94-.94-2.06-.94 2.06-2.06.94zm-11 1L8.5 8.5l.94-2.06 2.06-.94-2.06-.94L8.5 2.5l-.94 2.06-2.06.94zm10 10l.94 2.06.94-2.06 2.06-.94-2.06-.94-.94-2.06-.94 2.06-2.06.94z\"/><path d=\"M17.41 7.96l-1.37-1.37c-.4-.4-.92-.59-1.43-.59-.52 0-1.04.2-1.43.59L10.3 9.45l-7.72 7.72c-.78.78-.78 2.05 0 2.83L4 21.41c.39.39.9.59 1.41.59.51 0 1.02-.2 1.41-.59l7.78-7.78 2.81-2.81c.8-.78.8-2.07 0-2.86zM5.41 20L4 18.59l7.72-7.72 1.47 1.35L5.41 20z\"/>\n",
              "  </svg>\n",
              "      </button>\n",
              "      \n",
              "  <style>\n",
              "    .colab-df-container {\n",
              "      display:flex;\n",
              "      flex-wrap:wrap;\n",
              "      gap: 12px;\n",
              "    }\n",
              "\n",
              "    .colab-df-convert {\n",
              "      background-color: #E8F0FE;\n",
              "      border: none;\n",
              "      border-radius: 50%;\n",
              "      cursor: pointer;\n",
              "      display: none;\n",
              "      fill: #1967D2;\n",
              "      height: 32px;\n",
              "      padding: 0 0 0 0;\n",
              "      width: 32px;\n",
              "    }\n",
              "\n",
              "    .colab-df-convert:hover {\n",
              "      background-color: #E2EBFA;\n",
              "      box-shadow: 0px 1px 2px rgba(60, 64, 67, 0.3), 0px 1px 3px 1px rgba(60, 64, 67, 0.15);\n",
              "      fill: #174EA6;\n",
              "    }\n",
              "\n",
              "    [theme=dark] .colab-df-convert {\n",
              "      background-color: #3B4455;\n",
              "      fill: #D2E3FC;\n",
              "    }\n",
              "\n",
              "    [theme=dark] .colab-df-convert:hover {\n",
              "      background-color: #434B5C;\n",
              "      box-shadow: 0px 1px 3px 1px rgba(0, 0, 0, 0.15);\n",
              "      filter: drop-shadow(0px 1px 2px rgba(0, 0, 0, 0.3));\n",
              "      fill: #FFFFFF;\n",
              "    }\n",
              "  </style>\n",
              "\n",
              "      <script>\n",
              "        const buttonEl =\n",
              "          document.querySelector('#df-3b6736d5-21a6-453c-87ff-6cebe4a0dca7 button.colab-df-convert');\n",
              "        buttonEl.style.display =\n",
              "          google.colab.kernel.accessAllowed ? 'block' : 'none';\n",
              "\n",
              "        async function convertToInteractive(key) {\n",
              "          const element = document.querySelector('#df-3b6736d5-21a6-453c-87ff-6cebe4a0dca7');\n",
              "          const dataTable =\n",
              "            await google.colab.kernel.invokeFunction('convertToInteractive',\n",
              "                                                     [key], {});\n",
              "          if (!dataTable) return;\n",
              "\n",
              "          const docLinkHtml = 'Like what you see? Visit the ' +\n",
              "            '<a target=\"_blank\" href=https://colab.research.google.com/notebooks/data_table.ipynb>data table notebook</a>'\n",
              "            + ' to learn more about interactive tables.';\n",
              "          element.innerHTML = '';\n",
              "          dataTable['output_type'] = 'display_data';\n",
              "          await google.colab.output.renderOutput(dataTable, element);\n",
              "          const docLink = document.createElement('div');\n",
              "          docLink.innerHTML = docLinkHtml;\n",
              "          element.appendChild(docLink);\n",
              "        }\n",
              "      </script>\n",
              "    </div>\n",
              "  </div>\n",
              "  "
            ]
          },
          "metadata": {},
          "execution_count": 6
        }
      ]
    },
    {
      "cell_type": "code",
      "source": [
        "#Create a bar plot to visualize the distribution of flight cancellations:\n",
        "plt.figure(figsize=(10, 6))\n",
        "sns.countplot(data=air, x='Cancellations')\n",
        "plt.title('Flight Cancellations in Australia')\n",
        "plt.xlabel('Number of Cancellations')\n",
        "plt.ylabel('Count')\n",
        "plt.show()"
      ],
      "metadata": {
        "colab": {
          "base_uri": "https://localhost:8080/",
          "height": 581
        },
        "id": "Cp6SKiq9S2Zp",
        "outputId": "cfc1abbb-4a29-493d-96eb-993848a8bb88"
      },
      "execution_count": 7,
      "outputs": [
        {
          "output_type": "execute_result",
          "data": {
            "text/plain": [
              "<Figure size 1000x600 with 0 Axes>"
            ]
          },
          "metadata": {},
          "execution_count": 7
        },
        {
          "output_type": "execute_result",
          "data": {
            "text/plain": [
              "<Axes: xlabel='Cancellations', ylabel='count'>"
            ]
          },
          "metadata": {},
          "execution_count": 7
        },
        {
          "output_type": "execute_result",
          "data": {
            "text/plain": [
              "Text(0.5, 1.0, 'Flight Cancellations in Australia')"
            ]
          },
          "metadata": {},
          "execution_count": 7
        },
        {
          "output_type": "execute_result",
          "data": {
            "text/plain": [
              "Text(0.5, 0, 'Number of Cancellations')"
            ]
          },
          "metadata": {},
          "execution_count": 7
        },
        {
          "output_type": "execute_result",
          "data": {
            "text/plain": [
              "Text(0, 0.5, 'Count')"
            ]
          },
          "metadata": {},
          "execution_count": 7
        },
        {
          "output_type": "display_data",
          "data": {
            "text/plain": [
              "<Figure size 1000x600 with 1 Axes>"
            ],
            "image/png": "[encoded data removed]"
          },
          "metadata": {}
        }
      ]
    },
    {
      "cell_type": "code",
      "source": [
        "#Calculate and display descriptive statistics of the flight cancellations variable:\n",
        "print(\"Descriptive Statistics - Flight Cancellations:\")\n",
        "print(\"Mean:\", air['Cancellations'].mean())\n",
        "print(\"Median:\", air['Cancellations'].median())\n",
        "print(\"Standard Deviation:\", air['Cancellations'].std())\n",
        "print(\"Minimum:\", air['Cancellations'].min())\n",
        "print(\"Maximum:\", air['Cancellations'].max())"
      ],
      "metadata": {
        "colab": {
          "base_uri": "https://localhost:8080/"
        },
        "id": "sgN7NlWiTIC-",
        "outputId": "4064a12d-e776-4558-f370-c22eadf806d9"
      },
      "execution_count": 8,
      "outputs": [
        {
          "output_type": "stream",
          "name": "stdout",
          "text": [
            "Descriptive Statistics - Flight Cancellations:\n",
            "Mean: 15.722916666666666\n",
            "Median: 7.0\n",
            "Standard Deviation: 30.0955384758556\n",
            "Minimum: 1\n",
            "Maximum: 246\n"
          ]
        }
      ]
    },
    {
      "cell_type": "code",
      "source": [
        "air[['Cancellations']].hist(bins=10)\n",
        "plt.xlabel('Cancellations')\n",
        "plt.xlabel('Frequency')\n",
        "plt.show()"
      ],
      "metadata": {
        "colab": {
          "base_uri": "https://localhost:8080/",
          "height": 489
        },
        "id": "Sv-omrP8TiJ5",
        "outputId": "e2d50e04-2e20-4254-fc44-a4a443509b6a"
      },
      "execution_count": 11,
      "outputs": [
        {
          "output_type": "execute_result",
          "data": {
            "text/plain": [
              "array([[<Axes: title={'center': 'Cancellations'}>]], dtype=object)"
            ]
          },
          "metadata": {},
          "execution_count": 11
        },
        {
          "output_type": "execute_result",
          "data": {
            "text/plain": [
              "Text(0.5, 0, 'Cancellations')"
            ]
          },
          "metadata": {},
          "execution_count": 11
        },
        {
          "output_type": "execute_result",
          "data": {
            "text/plain": [
              "Text(0.5, 0, 'Frequency')"
            ]
          },
          "metadata": {},
          "execution_count": 11
        },
        {
          "output_type": "display_data",
          "data": {
            "text/plain": [
              "<Figure size 640x480 with 1 Axes>"
            ],
            "image/png": "[encoded data removed]"
          },
          "metadata": {}
        }
      ]
    },
    {
      "cell_type": "code",
      "source": [
        "import pandas as pd\n",
        "import matplotlib.pyplot as plt\n",
        "import seaborn as sns\n",
        "\n",
        "\n",
        "\n",
        "# Summary by Airlines\n",
        "airlines_summary = air.groupby('Airline')['Cancellations'].sum().reset_index()\n",
        "print(\"Flight Cancellations by Airlines:\")\n",
        "print(airlines_summary)\n",
        "\n",
        "# Summary by Arriving Ports\n",
        "arriving_ports_summary = air.groupby('Arriving_Port')['Cancellations'].sum().reset_index()\n",
        "print(\"\\nFlight Cancellations by Arriving Ports:\")\n",
        "print(arriving_ports_summary)\n",
        "\n",
        "# Summary by Departing Ports\n",
        "departing_ports_summary = air.groupby('Departing_Port')['Cancellations'].sum().reset_index()\n",
        "print(\"\\nFlight Cancellations by Departing Ports:\")\n",
        "print(departing_ports_summary)\n",
        "\n",
        "\n",
        "# Visualization - Flight Cancellations by Airlines\n",
        "plt.figure(figsize=(6, 6))\n",
        "sns.barplot(data=airlines_summary, x='Airline', y='Cancellations')\n",
        "plt.title('Flight Cancellations by Airlines')\n",
        "plt.xlabel('Airline')\n",
        "plt.ylabel('Number of Cancellations')\n",
        "plt.xticks(rotation=45)\n",
        "plt.show()\n",
        "\n",
        "# Visualization - Flight Cancellations by Arriving Ports\n",
        "plt.figure(figsize=(6, 6))\n",
        "sns.barplot(data=arriving_ports_summary, x='Arriving_Port', y='Cancellations')\n",
        "plt.title('Flight Cancellations by Arriving Ports')\n",
        "plt.xlabel('Arriving Port')\n",
        "plt.ylabel('Number of Cancellations')\n",
        "plt.xticks(rotation=45)\n",
        "plt.show()\n",
        "\n",
        "# Visualization - Flight Cancellations by Departing Ports\n",
        "plt.figure(figsize=(6, 6))\n",
        "sns.barplot(data=departing_ports_summary, x='Departing_Port', y='Cancellations')\n",
        "plt.title('Flight Cancellations by Departing Ports')\n",
        "plt.xlabel('Departing Port')\n",
        "plt.ylabel('Number of Cancellations')\n",
        "plt.xticks(rotation=45)\n",
        "plt.show()\n",
        "\n",
        "\n"
      ],
      "metadata": {
        "colab": {
          "base_uri": "https://localhost:8080/",
          "height": 1000
        },
        "id": "sW3RpJWnUkyi",
        "outputId": "f6f908e6-08a5-45c9-8e1d-a5f099e84e94"
      },
      "execution_count": 19,
      "outputs": [
        {
          "output_type": "stream",
          "name": "stdout",
          "text": [
            "Flight Cancellations by Airlines:\n",
            "  Airline  Cancellations\n",
            "0    Anta           3802\n",
            "1   Viria           3745\n",
            "\n",
            "Flight Cancellations by Arriving Ports:\n",
            "  Arriving_Port  Cancellations\n",
            "0      Adelaide            756\n",
            "1      Brisbane           1390\n",
            "2     Melbourne           2216\n",
            "3         Perth            828\n",
            "4        Sydney           2357\n",
            "\n",
            "Flight Cancellations by Departing Ports:\n",
            "  Departing_Port  Cancellations\n",
            "0       Adelaide            771\n",
            "1       Brisbane           1424\n",
            "2      Melbourne           2204\n",
            "3          Perth            785\n",
            "4         Perth              31\n",
            "5         Sydney           2332\n"
          ]
        },
        {
          "output_type": "execute_result",
          "data": {
            "text/plain": [
              "<Figure size 600x600 with 0 Axes>"
            ]
          },
          "metadata": {},
          "execution_count": 19
        },
        {
          "output_type": "execute_result",
          "data": {
            "text/plain": [
              "<Axes: xlabel='Airline', ylabel='Cancellations'>"
            ]
          },
          "metadata": {},
          "execution_count": 19
        },
        {
          "output_type": "execute_result",
          "data": {
            "text/plain": [
              "Text(0.5, 1.0, 'Flight Cancellations by Airlines')"
            ]
          },
          "metadata": {},
          "execution_count": 19
        },
        {
          "output_type": "execute_result",
          "data": {
            "text/plain": [
              "Text(0.5, 0, 'Airline')"
            ]
          },
          "metadata": {},
          "execution_count": 19
        },
        {
          "output_type": "execute_result",
          "data": {
            "text/plain": [
              "Text(0, 0.5, 'Number of Cancellations')"
            ]
          },
          "metadata": {},
          "execution_count": 19
        },
        {
          "output_type": "execute_result",
          "data": {
            "text/plain": [
              "(array([0, 1]), [Text(0, 0, 'Anta'), Text(1, 0, 'Viria')])"
            ]
          },
          "metadata": {},
          "execution_count": 19
        },
        {
          "output_type": "display_data",
          "data": {
            "text/plain": [
              "<Figure size 600x600 with 1 Axes>"
            ],
            "image/png": "[encoded data removed]"
          },
          "metadata": {}
        },
        {
          "output_type": "execute_result",
          "data": {
            "text/plain": [
              "<Figure size 600x600 with 0 Axes>"
            ]
          },
          "metadata": {},
          "execution_count": 19
        },
        {
          "output_type": "execute_result",
          "data": {
            "text/plain": [
              "<Axes: xlabel='Arriving_Port', ylabel='Cancellations'>"
            ]
          },
          "metadata": {},
          "execution_count": 19
        },
        {
          "output_type": "execute_result",
          "data": {
            "text/plain": [
              "Text(0.5, 1.0, 'Flight Cancellations by Arriving Ports')"
            ]
          },
          "metadata": {},
          "execution_count": 19
        },
        {
          "output_type": "execute_result",
          "data": {
            "text/plain": [
              "Text(0.5, 0, 'Arriving Port')"
            ]
          },
          "metadata": {},
          "execution_count": 19
        },
        {
          "output_type": "execute_result",
          "data": {
            "text/plain": [
              "Text(0, 0.5, 'Number of Cancellations')"
            ]
          },
          "metadata": {},
          "execution_count": 19
        },
        {
          "output_type": "execute_result",
          "data": {
            "text/plain": [
              "(array([0, 1, 2, 3, 4]),\n",
              " [Text(0, 0, 'Adelaide'),\n",
              "  Text(1, 0, 'Brisbane'),\n",
              "  Text(2, 0, 'Melbourne'),\n",
              "  Text(3, 0, 'Perth'),\n",
              "  Text(4, 0, 'Sydney')])"
            ]
          },
          "metadata": {},
          "execution_count": 19
        },
        {
          "output_type": "display_data",
          "data": {
            "text/plain": [
              "<Figure size 600x600 with 1 Axes>"
            ],
            "image/png": "[encoded data removed]"
          },
          "metadata": {}
        },
        {
          "output_type": "execute_result",
          "data": {
            "text/plain": [
              "<Figure size 600x600 with 0 Axes>"
            ]
          },
          "metadata": {},
          "execution_count": 19
        },
        {
          "output_type": "execute_result",
          "data": {
            "text/plain": [
              "<Axes: xlabel='Departing_Port', ylabel='Cancellations'>"
            ]
          },
          "metadata": {},
          "execution_count": 19
        },
        {
          "output_type": "execute_result",
          "data": {
            "text/plain": [
              "Text(0.5, 1.0, 'Flight Cancellations by Departing Ports')"
            ]
          },
          "metadata": {},
          "execution_count": 19
        },
        {
          "output_type": "execute_result",
          "data": {
            "text/plain": [
              "Text(0.5, 0, 'Departing Port')"
            ]
          },
          "metadata": {},
          "execution_count": 19
        },
        {
          "output_type": "execute_result",
          "data": {
            "text/plain": [
              "Text(0, 0.5, 'Number of Cancellations')"
            ]
          },
          "metadata": {},
          "execution_count": 19
        },
        {
          "output_type": "execute_result",
          "data": {
            "text/plain": [
              "(array([0, 1, 2, 3, 4, 5]),\n",
              " [Text(0, 0, 'Adelaide'),\n",
              "  Text(1, 0, 'Brisbane'),\n",
              "  Text(2, 0, 'Melbourne'),\n",
              "  Text(3, 0, 'Perth'),\n",
              "  Text(4, 0, 'Perth '),\n",
              "  Text(5, 0, 'Sydney')])"
            ]
          },
          "metadata": {},
          "execution_count": 19
        },
        {
          "output_type": "display_data",
          "data": {
            "text/plain": [
              "<Figure size 600x600 with 1 Axes>"
            ],
            "image/png": "[encoded data removed]"
          },
          "metadata": {}
        }
      ]
    },
    {
      "cell_type": "code",
      "source": [
        "#Your client, the Australian Airlines Association, is interested in the following questions:\n",
        "#• Whether “Cancellations” tends to be associated with the “Airline”\n",
        "#• Whether “Cancellations” tends to be associated with the “Sick Leave”\n",
        "import pandas as pd\n",
        "import seaborn as sns\n",
        "from scipy.stats import chi2_contingency\n",
        "\n",
        "\n",
        "\n",
        "# Association between Cancellations and Airline\n",
        "cancellations_by_airline = air.groupby('Airline')['Cancellations'].sum().reset_index()\n",
        "print(\"Flight Cancellations by Airlines:\")\n",
        "print(cancellations_by_airline)\n",
        "\n",
        "# Chi-square test for association between Cancellations and Airline\n",
        "contingency_table = pd.crosstab(air['Airline'], air['Cancellations'])\n",
        "chi2, p_value, _, _ = chi2_contingency(contingency_table)\n",
        "print(\"\\nChi-square Test - Cancellations vs Airline:\")\n",
        "print(f\"Chi-square value: {chi2}\")\n",
        "print(f\"P-value: {p_value}\")\n",
        "\n",
        "# Association between Cancellations and Sick Leave\n",
        "cancellations_by_sick_leave = air.groupby('Sick leave')['Cancellations'].sum().reset_index()\n",
        "print(\"\\nFlight Cancellations by Sick leave:\")\n",
        "print(cancellations_by_sick_leave)\n",
        "\n",
        "# Chi-square test for association between Cancellations and Sick Leave\n",
        "contingency_table = pd.crosstab(air['Sick leave'], air['Cancellations'])\n",
        "chi2, p_value, _, _ = chi2_contingency(contingency_table)\n",
        "print(\"\\nChi-square Test - Cancellations vs Sick leave:\")\n",
        "print(f\"Chi-square value: {chi2}\")\n",
        "print(f\"P-value: {p_value}\")\n"
      ],
      "metadata": {
        "colab": {
          "base_uri": "https://localhost:8080/"
        },
        "id": "uvBoP1eiXBRG",
        "outputId": "7ccaf6b6-7c23-4a5e-8722-99fe73f546c7"
      },
      "execution_count": 25,
      "outputs": [
        {
          "output_type": "stream",
          "name": "stdout",
          "text": [
            "Flight Cancellations by Airlines:\n",
            "  Airline  Cancellations\n",
            "0    Anta           3802\n",
            "1   Viria           3745\n",
            "\n",
            "Chi-square Test - Cancellations vs Airline:\n",
            "Chi-square value: 56.64600168301123\n",
            "P-value: 0.5627823897737273\n",
            "\n",
            "Flight Cancellations by Sick leave:\n",
            "    Sick leave  Cancellations\n",
            "0           10             78\n",
            "1           11            214\n",
            "2           12            468\n",
            "3           13            444\n",
            "4           14            388\n",
            "5           15            375\n",
            "6           16            275\n",
            "7           17            200\n",
            "8           18            311\n",
            "9           19            219\n",
            "10          20            368\n",
            "11          21             27\n",
            "12          22            321\n",
            "13          23             85\n",
            "14          24             52\n",
            "15          25            157\n",
            "16          26             98\n",
            "17          27             32\n",
            "18          28            105\n",
            "19          29            112\n",
            "20          30             79\n",
            "21          31             43\n",
            "22          32             47\n",
            "23          35            247\n",
            "24          37             56\n",
            "25          38             50\n",
            "26          40            262\n",
            "27          43             70\n",
            "28          47             69\n",
            "29          48             84\n",
            "30          49             72\n",
            "31          50             90\n",
            "32          51             88\n",
            "33          55            231\n",
            "34          58            182\n",
            "35          59             91\n",
            "36          60            106\n",
            "37          62            100\n",
            "38          63            114\n",
            "39          68            115\n",
            "40          82            144\n",
            "41          85            246\n",
            "42          91            151\n",
            "43          96            235\n",
            "44          98            246\n",
            "\n",
            "Chi-square Test - Cancellations vs Sick leave:\n",
            "Chi-square value: 14497.46938354319\n",
            "P-value: 0.0\n"
          ]
        }
      ]
    },
    {
      "cell_type": "markdown",
      "source": [
        "**Interpretation:**\n",
        "The results of the chi-square test for flight cancellations by airlines and sick leave are as follows:\n",
        "\n",
        "Flight Cancellations by Airlines:\n",
        "The chi-square value is 56.64 and the p-value is 0.56. This indicates that there is no significant association between flight cancellations and airlines. In other words, the proportion of flight cancellations does not differ significantly between the two airlines (Anta and Viria).\n",
        "\n",
        "Flight Cancellations by Sick leave:\n",
        "The chi-square value is 14497.47 and the p-value is 0.0. This suggests a significant association between flight cancellations and sick leave. The p-value of 0.0 indicates that the association is highly significant. It implies that the proportion of flight cancellations differs significantly across different levels of sick leave.\n",
        "\n",
        "In conclusion, the chi-square test indicates that there is no significant association between flight cancellations and airlines, but there is a significant association between flight cancellations and sick leave.Here sick leave means that The number of of staffs serving that particular route who called in sick in that month."
      ],
      "metadata": {
        "id": "w98VtGYpYGdv"
      }
    }
  ]
}